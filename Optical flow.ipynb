{
 "cells": [
  {
   "cell_type": "markdown",
   "metadata": {},
   "source": [
    "# Optical flow for control\n",
    "In this notebook, we will study how we can determine ego-motion and structure with the help of optical flow from an image sequence. We assume a pinhole camera in this notebook. We first start with a theoretical derivation of the optical flow formulas (expressing the optical flow in terms of ego-motion and structure of the observed scene). Then we will discuss how structure and ego-motion can be obtained from these formulas. Finally, you can play with a Python script that determines important optical flow observables such as the divergence from an image sequence."
   ]
  },
  {
   "cell_type": "markdown",
   "metadata": {},
   "source": [
    "## Deriving the optical flow formula\n",
    "Each point in an image $(x, y)$ has an associated optical flow $(u, v)$. Here we will derive an expression for the optical flow in terms of the movement of the camera, translational velocities $(U, V, W)$ and rotation rates $(A,B,C)$, and the coordinate of the projected point in the real world, $(X, Y, Z)$. This derivation is based on [2], from which we adopt the notation.\n",
    "\n",
    "We also use the coordinate system as introduced in [2], which is shown in Figure 1. In the system, O represents the center of the camera, $X$ is positive toward the left, $Y$ positive up, and $Z$ is positive in the direction of the camera’s principal axis.\n",
    "\n",
    "<CENTER>\n",
    "<IMG SRC=\"coordinate_system.png\" ALT=\"Coordinate system used in the optical flow derivation.\"></IMG>\n",
    "<small>Figure 1: Coordinate system from [2].</small>\n",
    "</CENTER>\n",
    "\n",
    "We start with the formulas for the image coordinate of a world point $P$ at $(X, Y, Z)$:\n",
    "\n",
    "$x = \\frac{X}{Z}$ and $y = \\frac{Y}{Z}$,\n",
    "\n",
    "where the reader should note that $x$ and $y$ are _normalized_ image coordinates. The optical flow then is:\n",
    "\n",
    "$u = \\frac{\\partial}{\\partial t} x = \\dot{x}$\n",
    "\n",
    "and\n",
    "\n",
    "$v = \\frac{\\partial}{\\partial t} y = \\dot{y}$\n",
    "\n",
    "Here, we first express $\\dot{x}$ and $\\dot{y}$ in the variables representing the camera movement and $P$'s coordinate:\n",
    "\n",
    "$\\dot{x} = \\frac{\\dot{X}}{Z} - \\frac{X \\dot{Z}}{Z^2}$      (Eq. 1),\n",
    "\n",
    "and\n",
    "\n",
    "$\\dot{y} = \\frac{\\dot{Y}}{Z} - \\frac{Y \\dot{Z}}{Z^2}$      (Eq. 2),\n",
    "\n",
    "which shows that we should find the expressions for $\\dot{X}$, $\\dot{Y}$ and $\\dot{Z}$.\n",
    "\n",
    "We will determine the time derivative of $x$, as the derivation of $\\dot{y}$ is similar. Let us start with $\\dot{X}$, which captures the change in coordinate $X$ as measured from the camera's origin over time. Obviously, if the camera has a positive velocity $U$, in its own reference frame the (static) point $P$ will move with the same velocity in the other direction. So:\n",
    "\n",
    "$\\dot{X} = -U + \\ldots$\n",
    "\n",
    "<CENTER>\n",
    "<IMG SRC=\"rotation_beta.png\" SIZE=\"200\" ALT=\"Effect of a rotation around the Y-axis on the X-position of a point P.\"></IMG>\n",
    "<small>Figure 2: Rotation around Y -axis, with rotation rate B.</small>\n",
    "</CENTER>\n",
    "\n",
    "Furthermore, a rotation around the $Y$-axis ($B$) also has an effect on the change in coordinate $X$. Please look at Figure 2, depicting a point P that is rotated with a rotation rate $B$. First, we can express $X$ and $Z$ in terms of the angle $\\beta$ and distance of P to the origin, $R$:\n",
    "\n",
    "$X = R \\mathrm{cos}(\\beta)$, and $Z = R \\mathrm{sin}(\\beta)$.\n",
    "\n",
    "Then we can determine $\\dot{X}$ as:\n",
    "\n",
    "$\\dot{X} = \\dot{R} \\mathrm{cos}(\\beta) - R \\mathrm{sin}(\\beta) \\dot{\\beta}$,\n",
    "\n",
    "where $\\dot{R}=0$ for a rotation, and $\\dot{\\beta} = B$:\n",
    "\n",
    "$\\dot{X} = - R \\mathrm{sin}(\\beta) B = -B Z$,\n",
    "\n",
    "where the last equality uses the equality $Z = R \\mathrm{sin}(\\beta)$. So this brings us to:\n",
    "\n",
    "$\\dot{X} = -U -BZ + \\ldots$\n",
    "\n",
    "A similar reasoning (left as exercise for the student) leads to the addition of $+CY$. The derivations for $\\dot{Y}$ are also similar, with as result:\n",
    "\n",
    "$\\dot{X} = -U -BZ + CY$,\n",
    "$\\dot{Y} = -V -CX + AZ$,\n",
    "$\\dot{Z} = -W -AY + BX$.\n",
    "\n",
    "We can fill in these expressions into Eq. 1 and 2:\n",
    "\n",
    "$u = \\dot{x} = \\frac{-U -BZ + CY}{Z} - \\frac{X (-W -AY + BX)}{Z^2}$,\n",
    "\n",
    "which we can write differently as:\n",
    "\n",
    "$u = \\dot{x} = -\\frac{U}{Z} - B + Cy + x \\frac{W}{Z} + A x y - B x^2$,\n",
    "\n",
    "where we have used $x = \\frac{X}{Z}$ and $y = \\frac{Y}{Z}$.\n",
    "\n",
    "In [2], the optical flow formulas are finally written as follows:\n",
    "\n",
    "$u = (-\\frac{U}{Z} - B + Cy) - x (\\frac{W}{Z} - A y + B x)$,\n",
    "\n",
    "$v = (-\\frac{V}{Z} -Cx + A) -y (-\\frac{W}{Z} - A y + B x)$."
   ]
  },
  {
   "cell_type": "markdown",
   "metadata": {},
   "source": [
    "## Information available from optical flow"
   ]
  }
 ],
 "metadata": {
  "kernelspec": {
   "display_name": "Python 3",
   "language": "python",
   "name": "python3"
  },
  "language_info": {
   "codemirror_mode": {
    "name": "ipython",
    "version": 3
   },
   "file_extension": ".py",
   "mimetype": "text/x-python",
   "name": "python",
   "nbconvert_exporter": "python",
   "pygments_lexer": "ipython3",
   "version": "3.6.7"
  }
 },
 "nbformat": 4,
 "nbformat_minor": 2
}
